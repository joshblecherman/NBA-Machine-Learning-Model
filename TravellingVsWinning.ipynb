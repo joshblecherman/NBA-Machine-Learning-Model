{
 "cells": [
  {
   "cell_type": "markdown",
   "metadata": {},
   "source": [
    "# Collecting Data"
   ]
  },
  {
   "cell_type": "code",
   "execution_count": 5,
   "metadata": {},
   "outputs": [],
   "source": [
    "import pandas as pd\n",
    "\n",
    "#  found this library after doing things manually for the 2018-2019 season\n",
    "from basketball_reference_web_scraper import client \n",
    "from basketball_reference_web_scraper.data import OutputType"
   ]
  },
  {
   "cell_type": "code",
   "execution_count": 6,
   "metadata": {
    "scrolled": true
   },
   "outputs": [],
   "source": [
    "for year in range(2017, 2021):\n",
    "    client.season_schedule(\n",
    "        season_end_year=year, \n",
    "        output_type=OutputType.CSV, \n",
    "        output_file_path = \"./games/allgames%s.csv\" % str(year)\n",
    "    )"
   ]
  },
  {
   "cell_type": "code",
   "execution_count": 7,
   "metadata": {},
   "outputs": [],
   "source": [
    "allgames2017 = pd.read_csv(\"./games/allgames2017.csv\")\n",
    "allgames2018 = pd.read_csv(\"./games/allgames2018.csv\") \n",
    "allgames2019 = pd.read_csv(\"./games/allgames2019.csv\")\n",
    "allgames2020 = pd.read_csv(\"./games/allgames2020.csv\")\n",
    "\n",
    "\n",
    "# cut off the postseason \n",
    "allgames2017 = allgames2017.iloc[range(0, 1230), :]\n",
    "allgames2018 = allgames2018.iloc[range(0,1230), :]\n",
    "allgames2019 = allgames2019.iloc[range(0, 1230), :]\n",
    "allgames2020 = allgames2020.iloc[range(0, 971), :] #  there were 971 non-bubble games played this season \n",
    "\n",
    "allgames = [allgames2017, allgames2018, allgames2019, allgames2020]"
   ]
  },
  {
   "cell_type": "code",
   "execution_count": 9,
   "metadata": {},
   "outputs": [
    {
     "name": "stdout",
     "output_type": "stream",
     "text": [
      "0.5779875563183866\n"
     ]
    }
   ],
   "source": [
    "# add column for home win\n",
    "for game in allgames: \n",
    "    game[\"home_team_win?\"] = game[\"home_team_score\"] > game[\"away_team_score\"]\n",
    "\n",
    "    \n",
    "# what is the home team win % over these 3 regular seasons? \n",
    "total_home_wins = sum([game[\"home_team_win?\"].sum() for game in allgames]) \n",
    "total_games = sum([game.shape[0] for game in allgames])\n",
    "\n",
    "home_win_percentage = total_home_wins / total_games \n",
    "print(home_win_percentage)"
   ]
  },
  {
   "cell_type": "markdown",
   "metadata": {},
   "source": [
    "# Finding Travel Distance Between Each Road Game"
   ]
  },
  {
   "cell_type": "markdown",
   "metadata": {},
   "source": [
    "#### Some Definitions: \n",
    "###### road trip: Any continuous stretch of away games of length >= 1 directly following a home game (the length is the # of games played)\n",
    "###### cumulative distance: Refers to the total distance traveled from game to game during a road trip \n",
    "###### n game road trip: A road trip of length n\n",
    "\n",
    "\n",
    "#### Some Notes: \n",
    "###### An n game road trip may be a fraction of a larger road trip. For example, a 5 game road trip consists of a 4 game road trip, a 3 game road trip, etc...\n",
    "###### Therefore, when I refer to a n game road trip, it does not imply that the n + 1 game is a home game. \n",
    "###### However, all road trips start from the first away game following a home game. For example, the last 3 games of a 5 game road trip is not a 3 game road trip. However, the first 3 games of a 5 game road trip is a 3 game road trip. \n",
    "###### All travel distances are approximated as the distance between the home cities of each team. For example, If the 76ers played an away  game against the Celtics, the distance traveled would be estimated as the distance between Philadelphia and Boston, according to this API: https://www.distance24.org/api.xhtml\n",
    "###### I did not consider games played between the Clippers and Lakers in my calculations, as they share a stadium, which pretty much defeats the purpose of home v. away. \n"
   ]
  },
  {
   "cell_type": "code",
   "execution_count": 52,
   "metadata": {},
   "outputs": [],
   "source": [
    "# Lets find out if winning an away game is correlated with distance traveled \n",
    "import json\n",
    "import requests\n",
    "\n",
    "team_cities = {\n",
    "    \"PHILADELPHIA 76ERS\": \"Philadelphia\" , \n",
    "    \"LOS ANGELES LAKERS\": \"Los Angeles\" , \n",
    "    \"NEW ORLEANS PELICANS\": \"New Orleans\" , \n",
    "    \"PORTLAND TRAIL BLAZERS\": \"Portland\" , \n",
    "    \"PHOENIX SUNS\": \"Phoenix\" , \n",
    "    \"MEMPHIS GRIZZLIES\": \"Memphis\",\n",
    "    \"SAN ANTONIO SPURS\" : \"San Antonio\", \n",
    "    \"WASHINGTON WIZARDS\" : \"Washington DC\", \n",
    "    \"CHARLOTTE HORNETS\" : \"Charlotte\", \n",
    "    \"ORLANDO MAGIC\" : \"Orlando\", \n",
    "    \"BOSTON CELTICS\" : \"Boston\", \n",
    "    \"INDIANA PACERS\" : \"Indiana\", \n",
    "    \"UTAH JAZZ\" : \"Utah\", \n",
    "    \"LOS ANGELES CLIPPERS\": \"Los Angeles\", \n",
    "    \"CHICAGO BULLS\" : \"Chicago\", \n",
    "    \"NEW YORK KNICKS\": \"New York City\", \n",
    "    \"BROOKLYN NETS\": \"Brooklyn\", \n",
    "    \"HOUSTON ROCKETS\": \"Houston\", \n",
    "    \"DALLAS MAVERICKS\" : \"Dallas\", \n",
    "    \"GOLDEN STATE WARRIORS\": \"San Francisco\", \n",
    "    \"MINNESOTA TIMBERWOLVES\" : \"Minneapolis\", \n",
    "    \"ATLANTA HAWKS\" : \"Atlanta\", \n",
    "    \"OKLAHOMA CITY THUNDER\" : \"Oklahoma City\", \n",
    "    \"MIAMI HEAT\" : \"Miami\", \n",
    "    \"DENVER NUGGETS\" : \"Denver\", \n",
    "    \"DETROIT PISTONS\" : \"Detroit\", \n",
    "    \"SACRAMENTO KINGS\" : \"Sacramento\",  \n",
    "    \"TORONTO RAPTORS\" : \"Toronto\", \n",
    "    \"CLEVELAND CAVALIERS\" : \"Cleveland\", \n",
    "    \"MILWAUKEE BUCKS\" : \"Milwaukee\"\n",
    "}\n",
    "\n",
    "class TeamTravelingVsWinning: \n",
    "    def __init__(self, team, year):\n",
    "        # each object of this class will be associated with a unique NBA team and year \n",
    "        self.year = year \n",
    "        self.team = team  \n",
    "        \n",
    "        self.home_city = team_cities[team]  # city of the team \n",
    "        self.curr_city = team_cities[team]  # current location of the team (initialized to the home city)\n",
    "        self.games_played = 0  # keeps track of the current game # \n",
    "        \n",
    "        #  As we iterate through the season's games, we will maintain this table for each team \n",
    "        self.table = {\n",
    "            \"cumulative_distance\" : [0 for i in range(82)], \n",
    "            \"n_game_road_trip\" : [0 for i in range(82)], \n",
    "            \"win?\" : [None for i in range(82)]\n",
    "        }\n",
    "    def add_game(self, home_team, h_pnts, v_pnts):  \n",
    "        if  self.home_city != team_cities[home_team]: \n",
    "            cities = \"stops=%s|%s\" % (self.curr_city, team_cities[home_team])\n",
    "            ep = \"https://www.distance24.org/route.json?%s\" % cities\n",
    "            dist = requests.get(ep).json()[\"distance\"]\n",
    "            prev_road_count = self.table[\"n_game_road_trip\"][self.games_played - 1]\n",
    "            prev_cumulative_dist = self.table[\"cumulative_distance\"][self.games_played - 1]\n",
    "            self.table[\"n_game_road_trip\"][self.games_played] = prev_road_count + 1 \n",
    "            self.table[\"cumulative_distance\"][self.games_played] = prev_cumulative_dist + dist \n",
    "        else: \n",
    "            self.table[\"n_game_road_trip\"][self.games_played] = 0 \n",
    "            self.table[\"cumulative_distance\"][self.games_played] = 0 \n",
    "        if self.team == home_team: \n",
    "            self.table[\"win?\"][self.games_played] = 1 if h_pnts > v_pnts else 0 \n",
    "        else: \n",
    "            self.table[\"win?\"][self.games_played] = 0 if h_pnts > v_pnts else 1 \n",
    "        self.games_played += 1  \n",
    "        self.curr_city = team_cities[home_team] \n",
    "\n",
    "teams = {} \n",
    "for year in range(2017, 2017 + len(allgames)): \n",
    "    for team in team_cities: \n",
    "        teams[(team, year)] = TeamTravelingVsWinning(team, year)\n",
    "\n",
    "for year in range(2017, 2017 + len(allgames)): \n",
    "    for row in allgames[year - 2017].iterrows():\n",
    "        visitor = row[1].loc[\"away_team\"]\n",
    "        home_team = row[1].loc[\"home_team\"] \n",
    "        h_pnts = row[1].loc[\"home_team_score\"] \n",
    "        v_pnts = row[1].loc[\"away_team_score\"]\n",
    "        teams[(visitor, year)].add_game(home_team, h_pnts, v_pnts) \n",
    "        teams[(home_team, year)].add_game(home_team, h_pnts, v_pnts) \n",
    "        "
   ]
  },
  {
   "cell_type": "code",
   "execution_count": 53,
   "metadata": {
    "scrolled": false
   },
   "outputs": [],
   "source": [
    "# Lets save each team's table as a csv, because that took a while to calculate \n",
    "dfs = {(team, year):pd.DataFrame.from_dict(data.table) for (team, year), data in teams.items()}\n",
    "for (team, year), df in dfs.items(): \n",
    "    name = \"%s%s.csv\" % (team, year)\n",
    "    path = r'~/NBA-Machine-Learning-Model/TeamTravelDistVsWinning/%s' % name\n",
    "    df.to_csv(path, index = False)\n"
   ]
  },
  {
   "cell_type": "code",
   "execution_count": 11,
   "metadata": {},
   "outputs": [
    {
     "data": {
      "text/html": [
       "<div>\n",
       "<style scoped>\n",
       "    .dataframe tbody tr th:only-of-type {\n",
       "        vertical-align: middle;\n",
       "    }\n",
       "\n",
       "    .dataframe tbody tr th {\n",
       "        vertical-align: top;\n",
       "    }\n",
       "\n",
       "    .dataframe thead th {\n",
       "        text-align: right;\n",
       "    }\n",
       "</style>\n",
       "<table border=\"1\" class=\"dataframe\">\n",
       "  <thead>\n",
       "    <tr style=\"text-align: right;\">\n",
       "      <th></th>\n",
       "      <th>cumulative_distance</th>\n",
       "      <th>n_game_road_trip</th>\n",
       "      <th>win?</th>\n",
       "    </tr>\n",
       "  </thead>\n",
       "  <tbody>\n",
       "    <tr>\n",
       "      <th>0</th>\n",
       "      <td>8</td>\n",
       "      <td>1</td>\n",
       "      <td>0.0</td>\n",
       "    </tr>\n",
       "    <tr>\n",
       "      <th>1</th>\n",
       "      <td>8</td>\n",
       "      <td>1</td>\n",
       "      <td>1.0</td>\n",
       "    </tr>\n",
       "    <tr>\n",
       "      <th>2</th>\n",
       "      <td>8</td>\n",
       "      <td>1</td>\n",
       "      <td>1.0</td>\n",
       "    </tr>\n",
       "    <tr>\n",
       "      <th>3</th>\n",
       "      <td>8</td>\n",
       "      <td>1</td>\n",
       "      <td>1.0</td>\n",
       "    </tr>\n",
       "    <tr>\n",
       "      <th>4</th>\n",
       "      <td>8</td>\n",
       "      <td>1</td>\n",
       "      <td>0.0</td>\n",
       "    </tr>\n",
       "    <tr>\n",
       "      <th>...</th>\n",
       "      <td>...</td>\n",
       "      <td>...</td>\n",
       "      <td>...</td>\n",
       "    </tr>\n",
       "    <tr>\n",
       "      <th>4641</th>\n",
       "      <td>12567</td>\n",
       "      <td>4</td>\n",
       "      <td>0.0</td>\n",
       "    </tr>\n",
       "    <tr>\n",
       "      <th>4642</th>\n",
       "      <td>13325</td>\n",
       "      <td>6</td>\n",
       "      <td>1.0</td>\n",
       "    </tr>\n",
       "    <tr>\n",
       "      <th>4643</th>\n",
       "      <td>13868</td>\n",
       "      <td>7</td>\n",
       "      <td>0.0</td>\n",
       "    </tr>\n",
       "    <tr>\n",
       "      <th>4644</th>\n",
       "      <td>14062</td>\n",
       "      <td>7</td>\n",
       "      <td>1.0</td>\n",
       "    </tr>\n",
       "    <tr>\n",
       "      <th>4645</th>\n",
       "      <td>15025</td>\n",
       "      <td>8</td>\n",
       "      <td>0.0</td>\n",
       "    </tr>\n",
       "  </tbody>\n",
       "</table>\n",
       "<p>4646 rows × 3 columns</p>\n",
       "</div>"
      ],
      "text/plain": [
       "      cumulative_distance  n_game_road_trip  win?\n",
       "0                       8                 1   0.0\n",
       "1                       8                 1   1.0\n",
       "2                       8                 1   1.0\n",
       "3                       8                 1   1.0\n",
       "4                       8                 1   0.0\n",
       "...                   ...               ...   ...\n",
       "4641                12567                 4   0.0\n",
       "4642                13325                 6   1.0\n",
       "4643                13868                 7   0.0\n",
       "4644                14062                 7   1.0\n",
       "4645                15025                 8   0.0\n",
       "\n",
       "[4646 rows x 3 columns]"
      ]
     },
     "metadata": {},
     "output_type": "display_data"
    },
    {
     "data": {
      "text/plain": [
       "count     4646.000000\n",
       "mean      2665.354929\n",
       "std       1998.533011\n",
       "min          8.000000\n",
       "25%       1126.000000\n",
       "50%       2190.000000\n",
       "75%       3762.000000\n",
       "max      15025.000000\n",
       "Name: cumulative_distance, dtype: float64"
      ]
     },
     "execution_count": 11,
     "metadata": {},
     "output_type": "execute_result"
    }
   ],
   "source": [
    "# Now, let's compile each teams data into one big DataFrame\n",
    "\n",
    "team_cities = {\n",
    "    \"PHILADELPHIA 76ERS\": \"Philadelphia\" , \n",
    "    \"LOS ANGELES LAKERS\": \"Los Angeles\" , \n",
    "    \"NEW ORLEANS PELICANS\": \"New Orleans\" , \n",
    "    \"PORTLAND TRAIL BLAZERS\": \"Portland\" , \n",
    "    \"PHOENIX SUNS\": \"Phoenix\" , \n",
    "    \"MEMPHIS GRIZZLIES\": \"Memphis\",\n",
    "    \"SAN ANTONIO SPURS\" : \"San Antonio\", \n",
    "    \"WASHINGTON WIZARDS\" : \"Washington DC\", \n",
    "    \"CHARLOTTE HORNETS\" : \"Charlotte\", \n",
    "    \"ORLANDO MAGIC\" : \"Orlando\", \n",
    "    \"BOSTON CELTICS\" : \"Boston\", \n",
    "    \"INDIANA PACERS\" : \"Indiana\", \n",
    "    \"UTAH JAZZ\" : \"Utah\", \n",
    "    \"LOS ANGELES CLIPPERS\": \"Los Angeles\", \n",
    "    \"CHICAGO BULLS\" : \"Chicago\", \n",
    "    \"NEW YORK KNICKS\": \"New York City\", \n",
    "    \"BROOKLYN NETS\": \"Brooklyn\", \n",
    "    \"HOUSTON ROCKETS\": \"Houston\", \n",
    "    \"DALLAS MAVERICKS\" : \"Dallas\", \n",
    "    \"GOLDEN STATE WARRIORS\": \"San Francisco\", \n",
    "    \"MINNESOTA TIMBERWOLVES\" : \"Minneapolis\", \n",
    "    \"ATLANTA HAWKS\" : \"Atlanta\", \n",
    "    \"OKLAHOMA CITY THUNDER\" : \"Oklahoma City\", \n",
    "    \"MIAMI HEAT\" : \"Miami\", \n",
    "    \"DENVER NUGGETS\" : \"Denver\", \n",
    "    \"DETROIT PISTONS\" : \"Detroit\", \n",
    "    \"SACRAMENTO KINGS\" : \"Sacramento\",  \n",
    "    \"TORONTO RAPTORS\" : \"Toronto\", \n",
    "    \"CLEVELAND CAVALIERS\" : \"Cleveland\", \n",
    "    \"MILWAUKEE BUCKS\" : \"Milwaukee\"\n",
    "}\n",
    "\n",
    "team_travel_data = []\n",
    "for year in range(2017, 2017 + len(allgames)):\n",
    "    for team, city in team_cities.items(): \n",
    "        file = \"%s%s.csv\" % (team, year) \n",
    "        team_travel_data.append(pd.read_csv(r'TeamTravelDistVsWinning/%s' % file))\n",
    "\n",
    "complete_data = pd.concat(team_travel_data)\n",
    "\n",
    "# delete home games \n",
    "complete_data = complete_data[complete_data['n_game_road_trip'] > 0]\n",
    "\n",
    "# get table sorted by distance\n",
    "complete_data.sort_values(by = ['cumulative_distance', 'n_game_road_trip'], inplace = True)\n",
    "\n",
    "# reset indices \n",
    "complete_data.reset_index(drop=True, inplace=True)\n",
    "\n",
    "# there are only 1226 games shown because of the 4 Lakers Clippers matchups \n",
    "display(complete_data)\n",
    "\n",
    "complete_data['cumulative_distance'].describe()\n",
    "# complete_data['n_game_road_trip'].describe()\n",
    "\n",
    "\n"
   ]
  },
  {
   "cell_type": "code",
   "execution_count": 12,
   "metadata": {},
   "outputs": [
    {
     "name": "stdout",
     "output_type": "stream",
     "text": [
      "n = 1: 2240\n",
      "n = 2: 1208\n",
      "n = 3: 642\n",
      "n = 4: 336\n",
      "n = 5: 149\n",
      "n = 6: 53\n",
      "n = 7: 13\n",
      "n = 8: 5\n"
     ]
    }
   ],
   "source": [
    "# Explore sample size for each road trip length for different values of n \n",
    "\n",
    "for i in range(1, 9):\n",
    "    print(\"n = %s:\" % str(i), complete_data[complete_data['n_game_road_trip'] == i].shape[0])"
   ]
  },
  {
   "cell_type": "code",
   "execution_count": 13,
   "metadata": {},
   "outputs": [
    {
     "data": {
      "text/html": [
       "<div>\n",
       "<style scoped>\n",
       "    .dataframe tbody tr th:only-of-type {\n",
       "        vertical-align: middle;\n",
       "    }\n",
       "\n",
       "    .dataframe tbody tr th {\n",
       "        vertical-align: top;\n",
       "    }\n",
       "\n",
       "    .dataframe thead th {\n",
       "        text-align: right;\n",
       "    }\n",
       "</style>\n",
       "<table border=\"1\" class=\"dataframe\">\n",
       "  <thead>\n",
       "    <tr style=\"text-align: right;\">\n",
       "      <th></th>\n",
       "      <th>sample size</th>\n",
       "      <th>nth game of road trip</th>\n",
       "      <th>mean travel distance</th>\n",
       "      <th>games won</th>\n",
       "      <th>expected games won</th>\n",
       "      <th>win %</th>\n",
       "    </tr>\n",
       "  </thead>\n",
       "  <tbody>\n",
       "    <tr>\n",
       "      <th>0</th>\n",
       "      <td>2240</td>\n",
       "      <td>1</td>\n",
       "      <td>1348.778125</td>\n",
       "      <td>955.0</td>\n",
       "      <td>945</td>\n",
       "      <td>0.426339</td>\n",
       "    </tr>\n",
       "    <tr>\n",
       "      <th>1</th>\n",
       "      <td>1208</td>\n",
       "      <td>2</td>\n",
       "      <td>2763.077815</td>\n",
       "      <td>509.0</td>\n",
       "      <td>509</td>\n",
       "      <td>0.421358</td>\n",
       "    </tr>\n",
       "    <tr>\n",
       "      <th>2</th>\n",
       "      <td>642</td>\n",
       "      <td>3</td>\n",
       "      <td>4070.063863</td>\n",
       "      <td>258.0</td>\n",
       "      <td>270</td>\n",
       "      <td>0.401869</td>\n",
       "    </tr>\n",
       "    <tr>\n",
       "      <th>3</th>\n",
       "      <td>336</td>\n",
       "      <td>4</td>\n",
       "      <td>5391.404762</td>\n",
       "      <td>139.0</td>\n",
       "      <td>141</td>\n",
       "      <td>0.413690</td>\n",
       "    </tr>\n",
       "    <tr>\n",
       "      <th>4</th>\n",
       "      <td>149</td>\n",
       "      <td>5</td>\n",
       "      <td>6721.342282</td>\n",
       "      <td>64.0</td>\n",
       "      <td>62</td>\n",
       "      <td>0.429530</td>\n",
       "    </tr>\n",
       "    <tr>\n",
       "      <th>5</th>\n",
       "      <td>71</td>\n",
       "      <td>&gt;5</td>\n",
       "      <td>8425.422535</td>\n",
       "      <td>32.0</td>\n",
       "      <td>29</td>\n",
       "      <td>0.450704</td>\n",
       "    </tr>\n",
       "  </tbody>\n",
       "</table>\n",
       "</div>"
      ],
      "text/plain": [
       "   sample size nth game of road trip  mean travel distance  games won  \\\n",
       "0         2240                     1           1348.778125      955.0   \n",
       "1         1208                     2           2763.077815      509.0   \n",
       "2          642                     3           4070.063863      258.0   \n",
       "3          336                     4           5391.404762      139.0   \n",
       "4          149                     5           6721.342282       64.0   \n",
       "5           71                    >5           8425.422535       32.0   \n",
       "\n",
       "   expected games won     win %  \n",
       "0                 945  0.426339  \n",
       "1                 509  0.421358  \n",
       "2                 270  0.401869  \n",
       "3                 141  0.413690  \n",
       "4                  62  0.429530  \n",
       "5                  29  0.450704  "
      ]
     },
     "metadata": {},
     "output_type": "display_data"
    }
   ],
   "source": [
    "# We have to figure out a way to bin this data \n",
    "# It makes the most sense to do bins of 1, 2, 3, 4, 5 and > 5 so each bin is sufficiently large\n",
    "\n",
    "AWAY_WIN_PERCENTAGE = 1 - home_win_percentage \n",
    "\n",
    "data_dict = {\n",
    "    \"sample size\": [],\n",
    "    \"nth game of road trip\": [],\n",
    "    \"mean travel distance\" : [],\n",
    "    \"games won\" : [], \n",
    "    \"expected games won\" : [], # if winning is independent of the length of road trip, how many games should be won? \n",
    "    \"win %\" : []\n",
    "}\n",
    "for i in range(1, 6): # first we will calculate the data for the bins 1 - 5 \n",
    "    i_data = complete_data[complete_data['n_game_road_trip'] == i]\n",
    "    i_games_won = i_data['win?'].sum()\n",
    "    i_size = i_data.shape[0] \n",
    "    i_winpercentage = i_games_won / i_size\n",
    "    i_mean_traveldist = i_data[\"cumulative_distance\"].mean()\n",
    "    data_dict[\"sample size\"].append(i_size)\n",
    "    data_dict[\"win %\"].append(i_winpercentage)\n",
    "    data_dict[\"nth game of road trip\"].append(str(i)) \n",
    "    data_dict[\"mean travel distance\"].append(i_mean_traveldist)\n",
    "    data_dict[\"games won\"].append(i_games_won) \n",
    "    data_dict[\"expected games won\"].append(int(i_size * AWAY_WIN_PERCENTAGE))\n",
    "\n",
    "# for road trips of size > 5\n",
    "greater_than_5 = complete_data[complete_data['n_game_road_trip'] > 5] \n",
    "data_dict[\"sample size\"].append(greater_than_5.shape[0]) \n",
    "data_dict[\"win %\"].append(greater_than_5[\"win?\"].sum() / greater_than_5.shape[0])\n",
    "data_dict[\"nth game of road trip\"].append(\">5\") \n",
    "data_dict[\"mean travel distance\"].append(greater_than_5[\"cumulative_distance\"].mean())\n",
    "data_dict[\"games won\"].append(greater_than_5[\"win?\"].sum()) \n",
    "data_dict[\"expected games won\"].append(int(greater_than_5.shape[0] * AWAY_WIN_PERCENTAGE))\n",
    "\n",
    "wins_vs_roadtrip = pd.DataFrame.from_dict(data_dict) \n",
    "    \n",
    "display(wins_vs_roadtrip) "
   ]
  },
  {
   "cell_type": "code",
   "execution_count": 19,
   "metadata": {},
   "outputs": [
    {
     "name": "stdout",
     "output_type": "stream",
     "text": [
      "Power_divergenceResult(statistic=1.0423831900981453, pvalue=nan)\n"
     ]
    }
   ],
   "source": [
    "# is this data significant?\n",
    "\n",
    "from scipy.stats import chisquare\n",
    "\n",
    "results = chisquare(data_dict[\"games won\"], data_dict[\"expected games won\"], ddof = 5)\n",
    "\n",
    "print(results) \n",
    "\n",
    "# Nope, there is a slightly greater that 2.5% chance that there is a correlation between the length of a road trip and winning percentage\n"
   ]
  },
  {
   "cell_type": "markdown",
   "metadata": {},
   "source": [
    "# Visualizations"
   ]
  },
  {
   "cell_type": "code",
   "execution_count": 67,
   "metadata": {},
   "outputs": [
    {
     "data": {
      "text/plain": [
       "<seaborn.axisgrid.FacetGrid at 0x7fc0920bd4c0>"
      ]
     },
     "execution_count": 67,
     "metadata": {},
     "output_type": "execute_result"
    },
    {
     "data": {
      "image/png": "[encoded data removed]",
      "text/plain": [
       "<Figure size 360x360 with 1 Axes>"
      ]
     },
     "metadata": {
      "needs_background": "light"
     },
     "output_type": "display_data"
    }
   ],
   "source": [
    "# Visualization of distance traveled vs length of trip \n",
    "\n",
    "import numpy as np\n",
    "import seaborn as sns\n",
    "import matplotlib.pyplot as plt\n",
    "\n",
    "sns.lmplot(x = \"n_game_road_trip\", y = \"cumulative_distance\", data = complete_data)\n"
   ]
  },
  {
   "cell_type": "code",
   "execution_count": 69,
   "metadata": {},
   "outputs": [
    {
     "name": "stderr",
     "output_type": "stream",
     "text": [
      "/home/joshblecherman/miniconda3/lib/python3.9/site-packages/seaborn/algorithms.py:85: RankWarning: Polyfit may be poorly conditioned\n",
      "  boot_dist.append(f(*sample, **func_kwargs))\n",
      "/home/joshblecherman/miniconda3/lib/python3.9/site-packages/seaborn/algorithms.py:85: RankWarning: Polyfit may be poorly conditioned\n",
      "  boot_dist.append(f(*sample, **func_kwargs))\n",
      "/home/joshblecherman/miniconda3/lib/python3.9/site-packages/seaborn/algorithms.py:85: RankWarning: Polyfit may be poorly conditioned\n",
      "  boot_dist.append(f(*sample, **func_kwargs))\n",
      "/home/joshblecherman/miniconda3/lib/python3.9/site-packages/seaborn/algorithms.py:85: RankWarning: Polyfit may be poorly conditioned\n",
      "  boot_dist.append(f(*sample, **func_kwargs))\n",
      "/home/joshblecherman/miniconda3/lib/python3.9/site-packages/seaborn/algorithms.py:85: RankWarning: Polyfit may be poorly conditioned\n",
      "  boot_dist.append(f(*sample, **func_kwargs))\n",
      "/home/joshblecherman/miniconda3/lib/python3.9/site-packages/seaborn/algorithms.py:85: RankWarning: Polyfit may be poorly conditioned\n",
      "  boot_dist.append(f(*sample, **func_kwargs))\n",
      "/home/joshblecherman/miniconda3/lib/python3.9/site-packages/seaborn/algorithms.py:85: RankWarning: Polyfit may be poorly conditioned\n",
      "  boot_dist.append(f(*sample, **func_kwargs))\n",
      "/home/joshblecherman/miniconda3/lib/python3.9/site-packages/seaborn/algorithms.py:85: RankWarning: Polyfit may be poorly conditioned\n",
      "  boot_dist.append(f(*sample, **func_kwargs))\n",
      "/home/joshblecherman/miniconda3/lib/python3.9/site-packages/seaborn/algorithms.py:85: RankWarning: Polyfit may be poorly conditioned\n",
      "  boot_dist.append(f(*sample, **func_kwargs))\n",
      "/home/joshblecherman/miniconda3/lib/python3.9/site-packages/seaborn/algorithms.py:85: RankWarning: Polyfit may be poorly conditioned\n",
      "  boot_dist.append(f(*sample, **func_kwargs))\n",
      "/home/joshblecherman/miniconda3/lib/python3.9/site-packages/seaborn/algorithms.py:85: RankWarning: Polyfit may be poorly conditioned\n",
      "  boot_dist.append(f(*sample, **func_kwargs))\n",
      "/home/joshblecherman/miniconda3/lib/python3.9/site-packages/seaborn/algorithms.py:85: RankWarning: Polyfit may be poorly conditioned\n",
      "  boot_dist.append(f(*sample, **func_kwargs))\n",
      "/home/joshblecherman/miniconda3/lib/python3.9/site-packages/seaborn/algorithms.py:85: RankWarning: Polyfit may be poorly conditioned\n",
      "  boot_dist.append(f(*sample, **func_kwargs))\n",
      "/home/joshblecherman/miniconda3/lib/python3.9/site-packages/seaborn/algorithms.py:85: RankWarning: Polyfit may be poorly conditioned\n",
      "  boot_dist.append(f(*sample, **func_kwargs))\n",
      "/home/joshblecherman/miniconda3/lib/python3.9/site-packages/seaborn/algorithms.py:85: RankWarning: Polyfit may be poorly conditioned\n",
      "  boot_dist.append(f(*sample, **func_kwargs))\n",
      "/home/joshblecherman/miniconda3/lib/python3.9/site-packages/seaborn/algorithms.py:85: RankWarning: Polyfit may be poorly conditioned\n",
      "  boot_dist.append(f(*sample, **func_kwargs))\n",
      "/home/joshblecherman/miniconda3/lib/python3.9/site-packages/seaborn/algorithms.py:85: RankWarning: Polyfit may be poorly conditioned\n",
      "  boot_dist.append(f(*sample, **func_kwargs))\n",
      "/home/joshblecherman/miniconda3/lib/python3.9/site-packages/seaborn/algorithms.py:85: RankWarning: Polyfit may be poorly conditioned\n",
      "  boot_dist.append(f(*sample, **func_kwargs))\n",
      "/home/joshblecherman/miniconda3/lib/python3.9/site-packages/seaborn/algorithms.py:85: RankWarning: Polyfit may be poorly conditioned\n",
      "  boot_dist.append(f(*sample, **func_kwargs))\n",
      "/home/joshblecherman/miniconda3/lib/python3.9/site-packages/seaborn/algorithms.py:85: RankWarning: Polyfit may be poorly conditioned\n",
      "  boot_dist.append(f(*sample, **func_kwargs))\n",
      "/home/joshblecherman/miniconda3/lib/python3.9/site-packages/seaborn/algorithms.py:85: RankWarning: Polyfit may be poorly conditioned\n",
      "  boot_dist.append(f(*sample, **func_kwargs))\n",
      "/home/joshblecherman/miniconda3/lib/python3.9/site-packages/seaborn/algorithms.py:85: RankWarning: Polyfit may be poorly conditioned\n",
      "  boot_dist.append(f(*sample, **func_kwargs))\n",
      "/home/joshblecherman/miniconda3/lib/python3.9/site-packages/seaborn/algorithms.py:85: RankWarning: Polyfit may be poorly conditioned\n",
      "  boot_dist.append(f(*sample, **func_kwargs))\n",
      "/home/joshblecherman/miniconda3/lib/python3.9/site-packages/seaborn/algorithms.py:85: RankWarning: Polyfit may be poorly conditioned\n",
      "  boot_dist.append(f(*sample, **func_kwargs))\n"
     ]
    },
    {
     "data": {
      "text/plain": [
       "<seaborn.axisgrid.FacetGrid at 0x7fc0920bd430>"
      ]
     },
     "execution_count": 69,
     "metadata": {},
     "output_type": "execute_result"
    },
    {
     "data": {
      "image/png": "[encoded data removed]",
      "text/plain": [
       "<Figure size 360x360 with 1 Axes>"
      ]
     },
     "metadata": {
      "needs_background": "light"
     },
     "output_type": "display_data"
    }
   ],
   "source": [
    "# Visualization of road trip size (by # of games) vs winning percentage\n",
    "\n",
    "sns.lmplot(x = \"mean travel distance\", y = \"win %\", data = wins_vs_roadtrip, order = 2)\n"
   ]
  },
  {
   "cell_type": "code",
   "execution_count": null,
   "metadata": {},
   "outputs": [],
   "source": []
  }
 ],
 "metadata": {
  "kernelspec": {
   "display_name": "Python 3",
   "language": "python",
   "name": "python3"
  },
  "language_info": {
   "codemirror_mode": {
    "name": "ipython",
    "version": 3
   },
   "file_extension": ".py",
   "mimetype": "text/x-python",
   "name": "python",
   "nbconvert_exporter": "python",
   "pygments_lexer": "ipython3",
   "version": "3.9.1"
  }
 },
 "nbformat": 4,
 "nbformat_minor": 4
}
