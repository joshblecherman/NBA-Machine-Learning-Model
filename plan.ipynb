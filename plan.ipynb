{
 "cells": [
  {
   "cell_type": "markdown",
   "metadata": {},
   "source": [
    "# Step 1: Creating the dataframe for training"
   ]
  },
  {
   "cell_type": "markdown",
   "metadata": {},
   "source": [
    "The dataframe columns should be as follows: \n",
    "[link](https://docs.google.com/spreadsheets/d/1lFqLQuyHl1s63olmScejUTTZUYo4SoC5t7x9_mExU8Q/edit#gid=0)\n"
   ]
  },
  {
   "cell_type": "markdown",
   "metadata": {},
   "source": [
    "The team IDs can be one of three things. Either the names of the teams, numbers 1-29 assigned to each team randomly, or the actual team IDs as described by many APIs. As of now, I am not sure if it really matters. See [this](https://github.com/gmf05/nba/blob/master/README.md) link for more info about the Game IDs."
   ]
  },
  {
   "cell_type": "markdown",
   "metadata": {},
   "source": [
    "In the example row, I arbitrarily used the team ID \"2\" to represent the Chicago Bulls. Because team 2 is set to 1, it means that the Chicago Bulls played in the game represented by the Game ID, and the stats are the real stats from the game represented by the Game ID. For every row, one of the Team IDs will be set to 1, with the rest set to 0. Note that there are only 29 columns for Team IDs, but there are 30 teams. This is because if all of the Team ID's are set to 0, then the active team is the excluded team. Note that there will be two rows per game. One row will predict the home teams points by pitting the home team's offensive 4 factors vs the opposing team's defensive 4 factors. The other row will predict the away team's points by doing the same thing. From there, we can predict winners and bet on the spread. "
   ]
  },
  {
   "cell_type": "markdown",
   "metadata": {},
   "source": [
    "In the example, the team's offensive stats are the same as the opponent's defensive stats. The only exception is odreb% (opponent's defensive rebound %) which is just 1 - oreb% (team's offensive rebound %). This is only because the example game is the 1st game of the season, but as the year goes on the stats will become more interesting. "
   ]
  },
  {
   "cell_type": "code",
   "execution_count": null,
   "metadata": {},
   "outputs": [],
   "source": []
  }
 ],
 "metadata": {
  "kernelspec": {
   "display_name": "Python 3",
   "language": "python",
   "name": "python3"
  },
  "language_info": {
   "codemirror_mode": {
    "name": "ipython",
    "version": 3
   },
   "file_extension": ".py",
   "mimetype": "text/x-python",
   "name": "python",
   "nbconvert_exporter": "python",
   "pygments_lexer": "ipython3",
   "version": "3.9.1"
  }
 },
 "nbformat": 4,
 "nbformat_minor": 4
}
