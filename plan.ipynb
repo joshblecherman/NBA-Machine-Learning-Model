{
 "cells": [
  {
   "cell_type": "markdown",
   "metadata": {},
   "source": [
    "1. Compile a list of features we might use\n",
    "2. Scrape the data from APIs \n",
    "3. Create a dataframe containing those features and the prediction values (the score of the game + who won)\n",
    "4. Do a feature selction on those features and decide if there are any features we want to leave out\n",
    "5. Run regression algorithms to predict the scores, then run a logistic regression to predict just the winners \n",
    "6. Ideally, I would like to output not just the predicted winner, but also the confidence of the prediction, sorta like [this](https://github.com/JakeKandell/NBA-Predict) project\n",
    "\n",
    "Maybe after we have a working model... \n",
    "1. Create a UI for the project, probably using some js/html/css "
   ]
  },
  {
   "cell_type": "markdown",
   "metadata": {},
   "source": [
    "### 1. Compile a list of features we might use"
   ]
  },
  {
   "cell_type": "markdown",
   "metadata": {},
   "source": [
    "Every stat here will have two components, one for the home team, and one for the away team\n",
    "1. Win % \n",
    "3. Last n game win%, and we can experiment with different values of n \n",
    "4. Injury quotient*\n",
    "5. OREB%\n",
    "6. DREB% \n",
    "7. ORTG\n",
    "8. DRTG \n",
    "9. TOV% \n",
    "10. Pace (could be useful in predicting the score) \n",
    "11. Home Win % \n",
    "12. Away Win % \n",
    "13. Last seasons stats - we can use this early in the season when there is not much current data \n",
    "\n",
    "Prediction features \n",
    "1. Home team points \n",
    "2. Away team points \n",
    "3. Home team win (True or False)\n",
    "\n",
    "*I was thinking of how we could factor in injury data into our prediction. Here is one approach: \n",
    "For every team, compute a baseline cumulative VORP - this is the sum of all of the players' VORP - let's call this the BCV. For a game, compute the same score but only for the players who are active - let's call this the ACV for active cumulative VORP. The injury quotient would then be the ACV/BCV. The great part about this is that if a team trades for a star player during the trade deadline, that team might have an injury quotient > 1, which makes sense because that team should outperform their past play. \n",
    "\n",
    "The trouble comes with updating the BCV. Let's say a team's starter has a month long injury. That team might start losing at a higher rate, while their injury quotient is low. Eventually, the team's poor play will be reflected in two places - their win% and their injury quotient - which would cause the model to underpredict the team's performance. In reality, the BCV should be updated at some point during the injured player's time out of play, but when should that happen? The same is true when a team trades for a good player. When do you update the BCV so the model doesn't overpredict a team's performance? These difficulties are why this feature should probably be added last. \n"
   ]
  },
  {
   "cell_type": "markdown",
   "metadata": {},
   "source": [
    "### 2. Scrape the data from APIs"
   ]
  },
  {
   "cell_type": "code",
   "execution_count": null,
   "metadata": {},
   "outputs": [],
   "source": []
  }
 ],
 "metadata": {
  "kernelspec": {
   "display_name": "Python 3",
   "language": "python",
   "name": "python3"
  },
  "language_info": {
   "codemirror_mode": {
    "name": "ipython",
    "version": 3
   },
   "file_extension": ".py",
   "mimetype": "text/x-python",
   "name": "python",
   "nbconvert_exporter": "python",
   "pygments_lexer": "ipython3",
   "version": "3.9.1"
  }
 },
 "nbformat": 4,
 "nbformat_minor": 4
}
