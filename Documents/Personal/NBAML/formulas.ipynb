{
 "cells": [
  {
   "cell_type": "markdown",
   "metadata": {},
   "source": [
    "For every function, the row paramerter is a pandas series. \n",
    "\n",
    "The home parameter is True if the home team's stat is need, and False if the away team's stat is needed. "
   ]
  },
  {
   "cell_type": "code",
   "execution_count": 1,
   "metadata": {},
   "outputs": [],
   "source": [
    "# efg% formula (effective field goal pct)\n",
    "\n",
    "def efg_pct(row, home): \n",
    "    suffix = '_A' if home else '_B' \n",
    "    try: \n",
    "        fgm = row.loc['FGM' + suffix] \n",
    "        fg3m = row.loc['FG3M' + suffix]\n",
    "        fga = row.loc['FGA' + suffix]\n",
    "    except: \n",
    "        raise ValueError('Series does not have the required labels')\n",
    "    return (fgm + (fg3m * .5)) / fga "
   ]
  },
  {
   "cell_type": "code",
   "execution_count": 2,
   "metadata": {},
   "outputs": [],
   "source": [
    "# tov% formula (turnover pct)\n",
    "\n",
    "def tov_pct(row, home): \n",
    "    suffix = '_A' if home else '_B'\n",
    "    try: \n",
    "        tov = row.loc['TOV' + suffix] \n",
    "        fga = row.loc['FGA' + suffix]\n",
    "        fta = row.loc['FTA' + suffix]\n",
    "    except: \n",
    "        raise ValueError('Series does not have the required labels')\n",
    "    return tov / (fga + 0.44 * fta + tov)"
   ]
  },
  {
   "cell_type": "code",
   "execution_count": 3,
   "metadata": {},
   "outputs": [],
   "source": [
    "# orb% formula (offensive rebound pct)\n",
    "\n",
    "def orb_pct(row, home): \n",
    "    suffix = '_A' if home else '_B'\n",
    "    opp_suffix = '_B' if home else '_A'\n",
    "    try: \n",
    "        orb = row.loc['OREB' + suffix] \n",
    "        opp_drb = row.loc['DREB' + opp_suffix]\n",
    "    except: \n",
    "        raise ValueError('Series does not have the required labels')\n",
    "    return orb / (orb + opp_drb)"
   ]
  },
  {
   "cell_type": "code",
   "execution_count": 4,
   "metadata": {},
   "outputs": [],
   "source": [
    "# ft/fga (free throws per field goal attempt) \n",
    "\n",
    "def ft_per_fga(row, home): \n",
    "    suffix = '_A' if home else '_B' \n",
    "    try: \n",
    "        ftm = row.loc['FTM' + suffix] \n",
    "        fga = row.loc['FGA' + suffix]\n",
    "    except: \n",
    "        raise ValueError('Series does not have the required labels')\n",
    "    return ftm / fga "
   ]
  },
  {
   "cell_type": "code",
   "execution_count": 4,
   "metadata": {},
   "outputs": [],
   "source": []
  }
 ],
 "metadata": {
  "kernelspec": {
   "display_name": "Python 3",
   "language": "python",
   "name": "python3"
  },
  "language_info": {
   "codemirror_mode": {
    "name": "ipython",
    "version": 3
   },
   "file_extension": ".py",
   "mimetype": "text/x-python",
   "name": "python",
   "nbconvert_exporter": "python",
   "pygments_lexer": "ipython3",
   "version": "3.9.1"
  }
 },
 "nbformat": 4,
 "nbformat_minor": 4
}