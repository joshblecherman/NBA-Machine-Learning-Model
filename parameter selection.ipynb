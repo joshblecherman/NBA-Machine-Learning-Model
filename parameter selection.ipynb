{
 "cells": [
  {
   "cell_type": "code",
   "execution_count": 28,
   "metadata": {},
   "outputs": [],
   "source": [
    "%run 'stats parser'.ipynb"
   ]
  },
  {
   "cell_type": "code",
   "execution_count": 1,
   "metadata": {},
   "outputs": [],
   "source": [
    "class Team_Stats_Tracker: \n",
    "    def __init__(self, team, season_end_year): \n",
    "        self.team = team \n",
    "        self.year = season_end_year\n",
    "        self.n = 0  \n",
    "        self.table = {\n",
    "            'win%' : [0], \n",
    "            'home?' : [0], \n",
    "            \n",
    "            # offensive four factors\n",
    "            'efg%' : [0], \n",
    "            'tov%' : [0], \n",
    "            'orb%' : [0], \n",
    "            'ft/fga' : [0], \n",
    "            \n",
    "            # defensive four factors \n",
    "            'oefg%' : [0], \n",
    "            'otov%' : [0], \n",
    "            'oorb%' : [0], \n",
    "            'oft/fga' : [0], \n",
    "            \n",
    "            # y (prediction) values\n",
    "            'win?' : [], \n",
    "            'points scored' : []\n",
    "        }\n",
    "    \n",
    "    # stats should be a dictionary in the format returned by the four_factors_iter() function \n",
    "    def add_game(self, stats, home_points, away_points): \n",
    "        if self.team = stats['home_team'][0]: \n",
    "            self.table['win?'].append(home_points > away_points)  \n",
    "            self.table['points scored'].append(home_points)\n",
    "    \n",
    "    @staticmethod \n",
    "    def add_row(team_points, team_stats, opponent_points, opponent_stats, home): \n",
    "        self.n += 1\n",
    "        new_win_pct = self.new_cum_stat(self.table['win%'][self.n - 1], 1 if team_points > opponent_points else 0, self.n)\n",
    "        self.table['win%'].append(new_win_pct)\n",
    "        self.table['home?'].append(1 if home else 0)\n",
    "        new_efg = self.table['efg%'][self.nth_game - 1] * ((self.nth_game - 1) / self.nth_game) + team_stats\n",
    "        self.table['efg%'].append()\n",
    "        \n",
    "    @staticmethod\n",
    "    def new_cum_stat(old_cum_stat, new_stat, n): \n",
    "            return old_cum_stat * ((n - 1) / n) + new_stat * (1 / n) \n",
    "        "
   ]
  },
  {
   "cell_type": "code",
   "execution_count": 1,
   "metadata": {},
   "outputs": [
    {
     "ename": "AttributeError",
     "evalue": "type object 'BoxScoreAdvancedV2' has no attribute 'get_parameter_map_parameters'",
     "output_type": "error",
     "traceback": [
      "\u001b[0;31m---------------------------------------------------------------------------\u001b[0m",
      "\u001b[0;31mAttributeError\u001b[0m                            Traceback (most recent call last)",
      "\u001b[0;32m<ipython-input-1-8917ae80370b>\u001b[0m in \u001b[0;36m<module>\u001b[0;34m\u001b[0m\n\u001b[1;32m     11\u001b[0m     \u001b[0;31m# 004 : Post Season\u001b[0m\u001b[0;34m\u001b[0m\u001b[0;34m\u001b[0m\u001b[0;34m\u001b[0m\u001b[0m\n\u001b[1;32m     12\u001b[0m \u001b[0;34m\u001b[0m\u001b[0m\n\u001b[0;32m---> 13\u001b[0;31m \u001b[0mboxscoreadvancedv2\u001b[0m\u001b[0;34m.\u001b[0m\u001b[0mBoxScoreAdvancedV2\u001b[0m\u001b[0;34m.\u001b[0m\u001b[0mget_parameter_map_parameters\u001b[0m\u001b[0;34m(\u001b[0m\u001b[0;34m)\u001b[0m\u001b[0;34m\u001b[0m\u001b[0;34m\u001b[0m\u001b[0m\n\u001b[0m",
      "\u001b[0;31mAttributeError\u001b[0m: type object 'BoxScoreAdvancedV2' has no attribute 'get_parameter_map_parameters'"
     ]
    }
   ],
   "source": []
  },
  {
   "cell_type": "code",
   "execution_count": null,
   "metadata": {},
   "outputs": [],
   "source": []
  }
 ],
 "metadata": {
  "kernelspec": {
   "display_name": "Python 3",
   "language": "python",
   "name": "python3"
  },
  "language_info": {
   "codemirror_mode": {
    "name": "ipython",
    "version": 3
   },
   "file_extension": ".py",
   "mimetype": "text/x-python",
   "name": "python",
   "nbconvert_exporter": "python",
   "pygments_lexer": "ipython3",
   "version": "3.9.1"
  }
 },
 "nbformat": 4,
 "nbformat_minor": 4
}
