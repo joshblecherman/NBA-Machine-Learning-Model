{
 "cells": [
  {
   "cell_type": "code",
   "execution_count": null,
   "metadata": {},
   "outputs": [],
   "source": [
    "from urllib.request import urlopen\n",
    "from bs4 import BeautifulSoup, Comment\n",
    "import pandas as pd\n",
    "from zoneinfo import ZoneInfo"
   ]
  },
  {
   "cell_type": "code",
   "execution_count": 23,
   "metadata": {},
   "outputs": [],
   "source": [
    "abbr = {\n",
    "    \"PHILADELPHIA 76ERS\": \"PHI\" , \n",
    "    \"LOS ANGELES LAKERS\": \"LAL\" , \n",
    "    \"NEW ORLEANS PELICANS\": \"NOP\" , \n",
    "    \"PORTLAND TRAIL BLAZERS\": \"POR\" , \n",
    "    \"PHOENIX SUNS\": \"PHO\" , \n",
    "    \"MEMPHIS GRIZZLIES\": \"MEM\",\n",
    "    \"SAN ANTONIO SPURS\" : \"SAS\", \n",
    "    \"WASHINGTON WIZARDS\" : \"WAS\", \n",
    "    \"CHARLOTTE HORNETS\" : \"CHO\", \n",
    "    \"ORLANDO MAGIC\" : \"ORL\", \n",
    "    \"BOSTON CELTICS\" : \"BOS\", \n",
    "    \"INDIANA PACERS\" : \"IND\", \n",
    "    \"UTAH JAZZ\" : \"UTA\", \n",
    "    \"LOS ANGELES CLIPPERS\": \"LAC\", \n",
    "    \"CHICAGO BULLS\" : \"CHI\", \n",
    "    \"NEW YORK KNICKS\": \"NYK\", \n",
    "    \"BROOKLYN NETS\": \"BRK\", \n",
    "    \"HOUSTON ROCKETS\": \"HOU\", \n",
    "    \"DALLAS MAVERICKS\" : \"DAL\", \n",
    "    \"GOLDEN STATE WARRIORS\": \"GSW\", \n",
    "    \"MINNESOTA TIMBERWOLVES\" : \"MIN\", \n",
    "    \"ATLANTA HAWKS\" : \"ATL\", \n",
    "    \"OKLAHOMA CITY THUNDER\" : \"OKC\", \n",
    "    \"MIAMI HEAT\" : \"MIA\", \n",
    "    \"DENVER NUGGETS\" : \"DEN\", \n",
    "    \"DETROIT PISTONS\" : \"DET\", \n",
    "    \"SACRAMENTO KINGS\" : \"SAC\",  \n",
    "    \"TORONTO RAPTORS\" : \"TOR\", \n",
    "    \"CLEVELAND CAVALIERS\" : \"CLE\", \n",
    "    \"MILWAUKEE BUCKS\" : \"MIL\"\n",
    "}\n",
    "\n",
    "allgames2016 = pd.read_csv(\"./games/allgames2016.csv\")\n",
    "allgames2017 = pd.read_csv(\"./games/allgames2017.csv\")\n",
    "allgames2018 = pd.read_csv(\"./games/allgames2018.csv\") \n",
    "allgames2019 = pd.read_csv(\"./games/allgames2019.csv\")\n",
    "allgames2020 = pd.read_csv(\"./games/allgames2020.csv\")\n",
    "\n",
    "# cut off the postseason\n",
    "allgames2016 = allgames2016.iloc[range(0, 1230), :]\n",
    "allgames2017 = allgames2017.iloc[range(0, 1230), :]\n",
    "allgames2018 = allgames2018.iloc[range(0,1230), :]\n",
    "allgames2019 = allgames2019.iloc[range(0, 1230), :]\n",
    "allgames2020 = allgames2020.iloc[range(0, 971), :] #  there were 971 non-bubble games played this season \n",
    "\n",
    "\n",
    "seasons_arr = [allgames2016, allgames2017, allgames2018, allgames2019, allgames2020] \n",
    "seasons = {str(year):seasons_arr[year-16] for year in range(16, 21)}"
   ]
  },
  {
   "cell_type": "code",
   "execution_count": 26,
   "metadata": {},
   "outputs": [],
   "source": [
    "#  season should be either \"16\", \"17\", \"18\", \"19\", or \"20\". \n",
    "#  These numbers represent the end year of the desired season\n",
    "def four_factors_iter(season):\n",
    "    allgames = seasons[season]\n",
    "    for index in range(1230):\n",
    "        \n",
    "        # convert from UTC to EST to get the correct date info \n",
    "        home_team = abbr[allgames.iloc[index, 3]] \n",
    "        date = allgames.iloc[index, 0][:-9]\n",
    "        year, month, day = [int(data) for data in date.split(\" \")[0].split(\"-\")] \n",
    "        hour, minute = [int(data) for data in date.split(\" \")[1].split(\":\")]\n",
    "        date = datetime(year, month, day, hour, minute, tzinfo=ZoneInfo('UTC')) \n",
    "        date = date.astimezone(ZoneInfo('EST'))  \n",
    "        year, month, day = date.year, date.month, date.day\n",
    "        if month < 10: \n",
    "            month = \"0\" + str(month)\n",
    "        if day < 10: \n",
    "            day = \"0\" + str(day) \n",
    "        \n",
    "        # parse HTML info on basketball-reference for a given game \n",
    "        url = \"https://www.basketball-reference.com/boxscores/%s%s%s0%s.html\" % (year, month, day, home_team) \n",
    "        response = urlopen(url)\n",
    "        html = response.read().decode()\n",
    "        soup = BeautifulSoup(html, 'html.parser')\n",
    "        comments = soup.find_all(text=lambda tag: isinstance(tag, Comment))\n",
    "        comment_soup = BeautifulSoup(str(comments), \"html.parser\")\n",
    "        \n",
    "         # Build the dictionary, and yield it\n",
    "        stats = [\"efg_pct\", \"tov_pct\", \"orb_pct\", \"ft_rate\"]\n",
    "        four_factors = {\n",
    "            \"home_team\" : (allgames.iloc[index, 3], []), \n",
    "            \"away_team\" : (allgames.iloc[index, 1], []) \n",
    "        } \n",
    "        for stat in stats: \n",
    "            value = comment_soup.select(\n",
    "                    'table[id=\"four_factors\"] tbody > tr > td[data-stat=\"%s\"]' % stat\n",
    "            )\n",
    "            four_factors[\"home_team\"][1].append(value[0].text) \n",
    "            four_factors[\"away_team\"][1].append(value[1].text) \n",
    "        yield four_factors\n",
    "            \n",
    "\n",
    "\n",
    "\n"
   ]
  },
  {
   "cell_type": "code",
   "execution_count": 27,
   "metadata": {},
   "outputs": [
    {
     "name": "stdout",
     "output_type": "stream",
     "text": [
      "{'home_team': ('CLEVELAND CAVALIERS', ['.420', '15.8', '24.5', '.172']), 'away_team': ('NEW YORK KNICKS', ['.548', '12.0', '27.5', '.149'])}\n",
      "{'home_team': ('PORTLAND TRAIL BLAZERS', ['.537', '11.0', '17.1', '.195']), 'away_team': ('UTAH JAZZ', ['.607', '12.4', '16.7', '.293'])}\n",
      "{'home_team': ('GOLDEN STATE WARRIORS', ['.541', '10.6', '43.8', '.235']), 'away_team': ('SAN ANTONIO SPURS', ['.512', '14.7', '19.0', '.153'])}\n",
      "{'home_team': ('INDIANA PACERS', ['.519', '11.8', '18.5', '.125']), 'away_team': ('DALLAS MAVERICKS', ['.559', '12.9', '17.0', '.280'])}\n",
      "{'home_team': ('ORLANDO MAGIC', ['.505', '8.8', '34.8', '.103']), 'away_team': ('MIAMI HEAT', ['.416', '9.8', '29.4', '.247'])}\n",
      "{'home_team': ('TORONTO RAPTORS', ['.440', '12.2', '17.8', '.202']), 'away_team': ('DETROIT PISTONS', ['.494', '10.0', '30.4', '.279'])}\n",
      "{'home_team': ('BOSTON CELTICS', ['.521', '13.1', '30.0', '.165']), 'away_team': ('BROOKLYN NETS', ['.601', '16.4', '29.3', '.169'])}\n",
      "{'home_team': ('MILWAUKEE BUCKS', ['.489', '9.1', '23.4', '.225']), 'away_team': ('CHARLOTTE HORNETS', ['.440', '7.4', '20.0', '.163'])}\n",
      "{'home_team': ('NEW ORLEANS PELICANS', ['.494', '19.7', '28.2', '.301']), 'away_team': ('DENVER NUGGETS', ['.429', '9.6', '9.6', '.250'])}\n",
      "{'home_team': ('MEMPHIS GRIZZLIES', ['.453', '9.2', '30.6', '.233']), 'away_team': ('MINNESOTA TIMBERWOLVES', ['.519', '12.4', '26.8', '.238'])}\n",
      "{'home_team': ('PHILADELPHIA 76ERS', ['.447', '8.7', '25.5', '.202']), 'away_team': ('OKLAHOMA CITY THUNDER', ['.470', '12.0', '11.1', '.214'])}\n",
      "{'home_team': ('PHOENIX SUNS', ['.547', '11.8', '24.4', '.221']), 'away_team': ('SACRAMENTO KINGS', ['.494', '16.8', '24.4', '.234'])}\n",
      "{'home_team': ('LOS ANGELES LAKERS', ['.552', '12.5', '26.3', '.221']), 'away_team': ('HOUSTON ROCKETS', ['.573', '13.2', '27.5', '.202'])}\n",
      "{'home_team': ('ATLANTA HAWKS', ['.457', '15.7', '24.0', '.138']), 'away_team': ('WASHINGTON WIZARDS', ['.568', '18.0', '33.3', '.159'])}\n",
      "{'home_team': ('CHICAGO BULLS', ['.553', '11.3', '7.5', '.197']), 'away_team': ('BOSTON CELTICS', ['.451', '10.2', '35.3', '.239'])}\n",
      "{'home_team': ('PORTLAND TRAIL BLAZERS', ['.451', '5.9', '27.8', '.352']), 'away_team': ('LOS ANGELES CLIPPERS', ['.482', '12.4', '21.4', '.282'])}\n",
      "{'home_team': ('SACRAMENTO KINGS', ['.494', '9.0', '20.9', '.304']), 'away_team': ('SAN ANTONIO SPURS', ['.443', '14.7', '16.2', '.457'])}\n",
      "{'home_team': ('TORONTO RAPTORS', ['.494', '16.1', '21.4', '.203']), 'away_team': ('CLEVELAND CAVALIERS', ['.411', '15.5', '36.7', '.189'])}\n"
     ]
    },
    {
     "ename": "KeyboardInterrupt",
     "evalue": "",
     "output_type": "error",
     "traceback": [
      "\u001b[0;31m---------------------------------------------------------------------------\u001b[0m",
      "\u001b[0;31mKeyboardInterrupt\u001b[0m                         Traceback (most recent call last)",
      "\u001b[0;32m<ipython-input-27-6856d735d2ef>\u001b[0m in \u001b[0;36m<module>\u001b[0;34m\u001b[0m\n\u001b[0;32m----> 1\u001b[0;31m \u001b[0;32mfor\u001b[0m \u001b[0mfour_factors\u001b[0m \u001b[0;32min\u001b[0m \u001b[0mfour_factors_iter\u001b[0m\u001b[0;34m(\u001b[0m\u001b[0;34m\"17\"\u001b[0m\u001b[0;34m)\u001b[0m\u001b[0;34m:\u001b[0m\u001b[0;34m\u001b[0m\u001b[0;34m\u001b[0m\u001b[0m\n\u001b[0m\u001b[1;32m      2\u001b[0m     \u001b[0mprint\u001b[0m\u001b[0;34m(\u001b[0m\u001b[0mfour_factors\u001b[0m\u001b[0;34m)\u001b[0m\u001b[0;34m\u001b[0m\u001b[0;34m\u001b[0m\u001b[0m\n",
      "\u001b[0;32m<ipython-input-26-ed396a390b09>\u001b[0m in \u001b[0;36mfour_factors_iter\u001b[0;34m(season)\u001b[0m\n\u001b[1;32m     22\u001b[0m         \u001b[0mresponse\u001b[0m \u001b[0;34m=\u001b[0m \u001b[0murlopen\u001b[0m\u001b[0;34m(\u001b[0m\u001b[0murl\u001b[0m\u001b[0;34m)\u001b[0m\u001b[0;34m\u001b[0m\u001b[0;34m\u001b[0m\u001b[0m\n\u001b[1;32m     23\u001b[0m         \u001b[0mhtml\u001b[0m \u001b[0;34m=\u001b[0m \u001b[0mresponse\u001b[0m\u001b[0;34m.\u001b[0m\u001b[0mread\u001b[0m\u001b[0;34m(\u001b[0m\u001b[0;34m)\u001b[0m\u001b[0;34m.\u001b[0m\u001b[0mdecode\u001b[0m\u001b[0;34m(\u001b[0m\u001b[0;34m)\u001b[0m\u001b[0;34m\u001b[0m\u001b[0;34m\u001b[0m\u001b[0m\n\u001b[0;32m---> 24\u001b[0;31m         \u001b[0msoup\u001b[0m \u001b[0;34m=\u001b[0m \u001b[0mBeautifulSoup\u001b[0m\u001b[0;34m(\u001b[0m\u001b[0mhtml\u001b[0m\u001b[0;34m,\u001b[0m \u001b[0;34m'html.parser'\u001b[0m\u001b[0;34m)\u001b[0m\u001b[0;34m\u001b[0m\u001b[0;34m\u001b[0m\u001b[0m\n\u001b[0m\u001b[1;32m     25\u001b[0m         \u001b[0mcomments\u001b[0m \u001b[0;34m=\u001b[0m \u001b[0msoup\u001b[0m\u001b[0;34m.\u001b[0m\u001b[0mfind_all\u001b[0m\u001b[0;34m(\u001b[0m\u001b[0mtext\u001b[0m\u001b[0;34m=\u001b[0m\u001b[0;32mlambda\u001b[0m \u001b[0mtag\u001b[0m\u001b[0;34m:\u001b[0m \u001b[0misinstance\u001b[0m\u001b[0;34m(\u001b[0m\u001b[0mtag\u001b[0m\u001b[0;34m,\u001b[0m \u001b[0mComment\u001b[0m\u001b[0;34m)\u001b[0m\u001b[0;34m)\u001b[0m\u001b[0;34m\u001b[0m\u001b[0;34m\u001b[0m\u001b[0m\n\u001b[1;32m     26\u001b[0m         \u001b[0mcomment_soup\u001b[0m \u001b[0;34m=\u001b[0m \u001b[0mBeautifulSoup\u001b[0m\u001b[0;34m(\u001b[0m\u001b[0mstr\u001b[0m\u001b[0;34m(\u001b[0m\u001b[0mcomments\u001b[0m\u001b[0;34m)\u001b[0m\u001b[0;34m,\u001b[0m \u001b[0;34m\"html.parser\"\u001b[0m\u001b[0;34m)\u001b[0m\u001b[0;34m\u001b[0m\u001b[0;34m\u001b[0m\u001b[0m\n",
      "\u001b[0;32m~/miniconda3/lib/python3.9/site-packages/bs4/__init__.py\u001b[0m in \u001b[0;36m__init__\u001b[0;34m(self, markup, features, builder, parse_only, from_encoding, exclude_encodings, element_classes, **kwargs)\u001b[0m\n\u001b[1;32m    346\u001b[0m             \u001b[0mself\u001b[0m\u001b[0;34m.\u001b[0m\u001b[0mreset\u001b[0m\u001b[0;34m(\u001b[0m\u001b[0;34m)\u001b[0m\u001b[0;34m\u001b[0m\u001b[0;34m\u001b[0m\u001b[0m\n\u001b[1;32m    347\u001b[0m             \u001b[0;32mtry\u001b[0m\u001b[0;34m:\u001b[0m\u001b[0;34m\u001b[0m\u001b[0;34m\u001b[0m\u001b[0m\n\u001b[0;32m--> 348\u001b[0;31m                 \u001b[0mself\u001b[0m\u001b[0;34m.\u001b[0m\u001b[0m_feed\u001b[0m\u001b[0;34m(\u001b[0m\u001b[0;34m)\u001b[0m\u001b[0;34m\u001b[0m\u001b[0;34m\u001b[0m\u001b[0m\n\u001b[0m\u001b[1;32m    349\u001b[0m                 \u001b[0msuccess\u001b[0m \u001b[0;34m=\u001b[0m \u001b[0;32mTrue\u001b[0m\u001b[0;34m\u001b[0m\u001b[0;34m\u001b[0m\u001b[0m\n\u001b[1;32m    350\u001b[0m                 \u001b[0;32mbreak\u001b[0m\u001b[0;34m\u001b[0m\u001b[0;34m\u001b[0m\u001b[0m\n",
      "\u001b[0;32m~/miniconda3/lib/python3.9/site-packages/bs4/__init__.py\u001b[0m in \u001b[0;36m_feed\u001b[0;34m(self)\u001b[0m\n\u001b[1;32m    432\u001b[0m         \u001b[0mself\u001b[0m\u001b[0;34m.\u001b[0m\u001b[0mbuilder\u001b[0m\u001b[0;34m.\u001b[0m\u001b[0mreset\u001b[0m\u001b[0;34m(\u001b[0m\u001b[0;34m)\u001b[0m\u001b[0;34m\u001b[0m\u001b[0;34m\u001b[0m\u001b[0m\n\u001b[1;32m    433\u001b[0m \u001b[0;34m\u001b[0m\u001b[0m\n\u001b[0;32m--> 434\u001b[0;31m         \u001b[0mself\u001b[0m\u001b[0;34m.\u001b[0m\u001b[0mbuilder\u001b[0m\u001b[0;34m.\u001b[0m\u001b[0mfeed\u001b[0m\u001b[0;34m(\u001b[0m\u001b[0mself\u001b[0m\u001b[0;34m.\u001b[0m\u001b[0mmarkup\u001b[0m\u001b[0;34m)\u001b[0m\u001b[0;34m\u001b[0m\u001b[0;34m\u001b[0m\u001b[0m\n\u001b[0m\u001b[1;32m    435\u001b[0m         \u001b[0;31m# Close out any unfinished strings and close all the open tags.\u001b[0m\u001b[0;34m\u001b[0m\u001b[0;34m\u001b[0m\u001b[0;34m\u001b[0m\u001b[0m\n\u001b[1;32m    436\u001b[0m         \u001b[0mself\u001b[0m\u001b[0;34m.\u001b[0m\u001b[0mendData\u001b[0m\u001b[0;34m(\u001b[0m\u001b[0;34m)\u001b[0m\u001b[0;34m\u001b[0m\u001b[0;34m\u001b[0m\u001b[0m\n",
      "\u001b[0;32m~/miniconda3/lib/python3.9/site-packages/bs4/builder/_htmlparser.py\u001b[0m in \u001b[0;36mfeed\u001b[0;34m(self, markup)\u001b[0m\n\u001b[1;32m    375\u001b[0m         \u001b[0mparser\u001b[0m\u001b[0;34m.\u001b[0m\u001b[0msoup\u001b[0m \u001b[0;34m=\u001b[0m \u001b[0mself\u001b[0m\u001b[0;34m.\u001b[0m\u001b[0msoup\u001b[0m\u001b[0;34m\u001b[0m\u001b[0;34m\u001b[0m\u001b[0m\n\u001b[1;32m    376\u001b[0m         \u001b[0;32mtry\u001b[0m\u001b[0;34m:\u001b[0m\u001b[0;34m\u001b[0m\u001b[0;34m\u001b[0m\u001b[0m\n\u001b[0;32m--> 377\u001b[0;31m             \u001b[0mparser\u001b[0m\u001b[0;34m.\u001b[0m\u001b[0mfeed\u001b[0m\u001b[0;34m(\u001b[0m\u001b[0mmarkup\u001b[0m\u001b[0;34m)\u001b[0m\u001b[0;34m\u001b[0m\u001b[0;34m\u001b[0m\u001b[0m\n\u001b[0m\u001b[1;32m    378\u001b[0m             \u001b[0mparser\u001b[0m\u001b[0;34m.\u001b[0m\u001b[0mclose\u001b[0m\u001b[0;34m(\u001b[0m\u001b[0;34m)\u001b[0m\u001b[0;34m\u001b[0m\u001b[0;34m\u001b[0m\u001b[0m\n\u001b[1;32m    379\u001b[0m         \u001b[0;32mexcept\u001b[0m \u001b[0mHTMLParseError\u001b[0m \u001b[0;32mas\u001b[0m \u001b[0me\u001b[0m\u001b[0;34m:\u001b[0m\u001b[0;34m\u001b[0m\u001b[0;34m\u001b[0m\u001b[0m\n",
      "\u001b[0;32m~/miniconda3/lib/python3.9/html/parser.py\u001b[0m in \u001b[0;36mfeed\u001b[0;34m(self, data)\u001b[0m\n\u001b[1;32m    108\u001b[0m         \"\"\"\n\u001b[1;32m    109\u001b[0m         \u001b[0mself\u001b[0m\u001b[0;34m.\u001b[0m\u001b[0mrawdata\u001b[0m \u001b[0;34m=\u001b[0m \u001b[0mself\u001b[0m\u001b[0;34m.\u001b[0m\u001b[0mrawdata\u001b[0m \u001b[0;34m+\u001b[0m \u001b[0mdata\u001b[0m\u001b[0;34m\u001b[0m\u001b[0;34m\u001b[0m\u001b[0m\n\u001b[0;32m--> 110\u001b[0;31m         \u001b[0mself\u001b[0m\u001b[0;34m.\u001b[0m\u001b[0mgoahead\u001b[0m\u001b[0;34m(\u001b[0m\u001b[0;36m0\u001b[0m\u001b[0;34m)\u001b[0m\u001b[0;34m\u001b[0m\u001b[0;34m\u001b[0m\u001b[0m\n\u001b[0m\u001b[1;32m    111\u001b[0m \u001b[0;34m\u001b[0m\u001b[0m\n\u001b[1;32m    112\u001b[0m     \u001b[0;32mdef\u001b[0m \u001b[0mclose\u001b[0m\u001b[0;34m(\u001b[0m\u001b[0mself\u001b[0m\u001b[0;34m)\u001b[0m\u001b[0;34m:\u001b[0m\u001b[0;34m\u001b[0m\u001b[0;34m\u001b[0m\u001b[0m\n",
      "\u001b[0;32m~/miniconda3/lib/python3.9/html/parser.py\u001b[0m in \u001b[0;36mgoahead\u001b[0;34m(self, end)\u001b[0m\n\u001b[1;32m    165\u001b[0m             \u001b[0mi\u001b[0m \u001b[0;34m=\u001b[0m \u001b[0mself\u001b[0m\u001b[0;34m.\u001b[0m\u001b[0mupdatepos\u001b[0m\u001b[0;34m(\u001b[0m\u001b[0mi\u001b[0m\u001b[0;34m,\u001b[0m \u001b[0mj\u001b[0m\u001b[0;34m)\u001b[0m\u001b[0;34m\u001b[0m\u001b[0;34m\u001b[0m\u001b[0m\n\u001b[1;32m    166\u001b[0m             \u001b[0;32mif\u001b[0m \u001b[0mi\u001b[0m \u001b[0;34m==\u001b[0m \u001b[0mn\u001b[0m\u001b[0;34m:\u001b[0m \u001b[0;32mbreak\u001b[0m\u001b[0;34m\u001b[0m\u001b[0;34m\u001b[0m\u001b[0m\n\u001b[0;32m--> 167\u001b[0;31m             \u001b[0mstartswith\u001b[0m \u001b[0;34m=\u001b[0m \u001b[0mrawdata\u001b[0m\u001b[0;34m.\u001b[0m\u001b[0mstartswith\u001b[0m\u001b[0;34m\u001b[0m\u001b[0;34m\u001b[0m\u001b[0m\n\u001b[0m\u001b[1;32m    168\u001b[0m             \u001b[0;32mif\u001b[0m \u001b[0mstartswith\u001b[0m\u001b[0;34m(\u001b[0m\u001b[0;34m'<'\u001b[0m\u001b[0;34m,\u001b[0m \u001b[0mi\u001b[0m\u001b[0;34m)\u001b[0m\u001b[0;34m:\u001b[0m\u001b[0;34m\u001b[0m\u001b[0;34m\u001b[0m\u001b[0m\n\u001b[1;32m    169\u001b[0m                 \u001b[0;32mif\u001b[0m \u001b[0mstarttagopen\u001b[0m\u001b[0;34m.\u001b[0m\u001b[0mmatch\u001b[0m\u001b[0;34m(\u001b[0m\u001b[0mrawdata\u001b[0m\u001b[0;34m,\u001b[0m \u001b[0mi\u001b[0m\u001b[0;34m)\u001b[0m\u001b[0;34m:\u001b[0m \u001b[0;31m# < + letter\u001b[0m\u001b[0;34m\u001b[0m\u001b[0;34m\u001b[0m\u001b[0m\n",
      "\u001b[0;31mKeyboardInterrupt\u001b[0m: "
     ]
    }
   ],
   "source": [
    "for four_factors in four_factors_iter(\"17\"): \n",
    "    print(four_factors)"
   ]
  },
  {
   "cell_type": "code",
   "execution_count": null,
   "metadata": {},
   "outputs": [],
   "source": []
  }
 ],
 "metadata": {
  "kernelspec": {
   "display_name": "Python 3",
   "language": "python",
   "name": "python3"
  },
  "language_info": {
   "codemirror_mode": {
    "name": "ipython",
    "version": 3
   },
   "file_extension": ".py",
   "mimetype": "text/x-python",
   "name": "python",
   "nbconvert_exporter": "python",
   "pygments_lexer": "ipython3",
   "version": "3.9.1"
  }
 },
 "nbformat": 4,
 "nbformat_minor": 4
}
